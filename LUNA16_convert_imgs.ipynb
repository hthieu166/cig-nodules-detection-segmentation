{
 "cells": [
  {
   "cell_type": "code",
   "execution_count": null,
   "metadata": {},
   "outputs": [],
   "source": [
    "%load_ext autoreload\n",
    "%autoreload 2"
   ]
  },
  {
   "cell_type": "code",
   "execution_count": 6,
   "metadata": {},
   "outputs": [],
   "source": [
    "import sys\n",
    "import os\n",
    "sys.path.insert(0, os.path.abspath('../'))\n",
    "import numpy as np\n",
    "import torch\n",
    "from torch import nn\n",
    "from torch import optim\n",
    "from torch.utils.data import DataLoader\n",
    "from src.utils.load_cfg import ConfigLoader\n",
    "from src.factories import ModelFactory, LossFactory, InferFactory\n",
    "from src.loaders.base_loader_factory import BaseDataLoaderFactory\n",
    "from src.factories import DataAugmentationFactory, DataSamplerFactory, DatasetFactory\n",
    "from trainer import train\n",
    "from tester import test\n",
    "import src.utils.logging as logging\n",
    "from PIL import Image, ImageDraw\n",
    "import os.path as osp"
   ]
  },
  {
   "cell_type": "code",
   "execution_count": 12,
   "metadata": {},
   "outputs": [],
   "source": [
    "data_cfg = \"./configs/dataset_cfgs/luna16.yaml\"\n",
    "dataset_name, dataset_params = ConfigLoader.load_dataset_cfg(data_cfg)\n",
    "data_fact = DatasetFactory()\n",
    "luna16dataset = data_fact.generate(dataset_name, mode=\"train\", **dataset_params)\n",
    "luna16loader  = DataLoader(luna16dataset, shuffle=False, drop_last=False) "
   ]
  },
  {
   "cell_type": "code",
   "execution_count": null,
   "metadata": {},
   "outputs": [],
   "source": [
    "for i, (samples, labels) in enumerate(luna16loader):\n",
    "    smpl = samples[0]\n",
    "    lbl  = labels\n",
    "    lbl  = [c.item() for c in lbl]\n",
    "    x, y, z, rx, ry, rz = tuple(lbl)\n",
    "   \n",
    "    smpl_npy   = smpl.squeeze().detach().numpy()\n",
    "    slices_idx = [max(0, z-rz),min(smpl.shape[0], z+int(rz))]\n",
    "    for slidx in range(*slices_idx):\n",
    "        smpl_uint  = (smpl_npy[slidx] * 255).astype(np.uint8)\n",
    "        smpl_pil   = Image.fromarray(np.concatenate([smpl_uint[...,np.newaxis]]*3, axis = 2))\n",
    "    \n",
    "        fname      = nod_fname_lst[i]\n",
    "        slc_img_name = str(fname)+\"_\"+str(slidx)+\".jpg\"\n",
    "        slc_img_pth  = osp.join(out_dir,fname, slc_img_name)\n",
    "        print(slc_img_pth)\n",
    "        os.makedirs(osp.dirname(slc_img_pth), exist_ok=True)\n",
    "        smpl_pil.save(slc_img_pth)\n",
    "    break\n",
    "        # Place data on the corresponding device"
   ]
  },
  {
   "cell_type": "code",
   "execution_count": null,
   "metadata": {},
   "outputs": [],
   "source": [
    "smpl_drw = ImageDraw.Draw(smpl_pil)\n",
    "smpl_drw.point([y,x], fill='green')\n",
    "smpl_drw.rectangle([(x-rx, y-ry),(x+rx,y+ry)], outline = 'green')\n",
    "smpl_pil"
   ]
  }
 ],
 "metadata": {
  "kernelspec": {
   "display_name": "Python 3",
   "language": "python",
   "name": "python3"
  },
  "language_info": {
   "codemirror_mode": {
    "name": "ipython",
    "version": 3
   },
   "file_extension": ".py",
   "mimetype": "text/x-python",
   "name": "python",
   "nbconvert_exporter": "python",
   "pygments_lexer": "ipython3",
   "version": "3.7.6"
  }
 },
 "nbformat": 4,
 "nbformat_minor": 4
}
